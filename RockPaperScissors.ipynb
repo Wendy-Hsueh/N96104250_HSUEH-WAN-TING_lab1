{
 "cells": [
  {
   "cell_type": "code",
   "execution_count": 1,
   "id": "07d309d5",
   "metadata": {},
   "outputs": [
    {
     "name": "stdout",
     "output_type": "stream",
     "text": [
      "Welcome to ROCK, PAPER, SCISSORS game!\n",
      "Enter your move: (r)ock (p)aper (s)cissors ?r\n",
      "It is a tie!\n",
      "Enter your move: (r)ock (p)aper (s)cissors ?p\n",
      "PAPER versus...\n",
      "SCISSORS\n",
      "You lose!\n",
      "Enter your move: (r)ock (p)aper (s)cissors ?r\n",
      "It is a tie!\n",
      "Enter your move: (r)ock (p)aper (s)cissors ?r\n",
      "It is a tie!\n",
      "Enter your move: (r)ock (p)aper (s)cissors ?p\n",
      "PAPER versus...\n",
      "ROCK\n",
      "You win!\n",
      "You have 3 ties and  1 losses before your first win.\n"
     ]
    }
   ],
   "source": [
    "import random\n",
    "#list for random selection\n",
    "t = [\"r\", \"p\", \"s\"]\n",
    "computer = t[random.randint(0,2)]\n",
    "tie = 0\n",
    "lose = 0\n",
    "win = 0\n",
    "print('Welcome to ROCK, PAPER, SCISSORS game!')\n",
    "while win == 0:\n",
    "    player = input(\"Enter your move: (r)ock (p)aper (s)cissors ?\")\n",
    "    if win == 1:\n",
    "        break\n",
    "    if player == computer:\n",
    "        print(\"It is a tie!\")\n",
    "        tie+=1\n",
    "    elif player == \"r\":\n",
    "        print('ROCK versus...')\n",
    "        if computer == \"p\":\n",
    "            print(\"PAPER\")\n",
    "            print(\"You lose!\")\n",
    "            lose+=1\n",
    "        else:\n",
    "            print(\"SCISSORS\")\n",
    "            print(\"You win!\")\n",
    "            win+=1\n",
    "    elif player == \"p\":\n",
    "        print('PAPER versus...')\n",
    "        if computer == \"s\":\n",
    "            print(\"SCISSORS\")\n",
    "            print(\"You lose!\")\n",
    "            lose+=1\n",
    "        else:\n",
    "            print(\"ROCK\")\n",
    "            print(\"You win!\")\n",
    "            win+=1\n",
    "    elif player == \"s\":\n",
    "        print('SCISSORS versus...')\n",
    "        if computer == \"r\":\n",
    "            print(\"ROCK\")\n",
    "            print(\"You lose!\")\n",
    "            lose+=1\n",
    "        else:\n",
    "            print(\"PAPER\")\n",
    "            print(\"You win!\")\n",
    "            win+=1\n",
    "    \n",
    "    computer = t[random.randint(0,2)]\n",
    "print('You have',tie, 'ties and ', lose ,'losses before your first win.')"
   ]
  },
  {
   "cell_type": "raw",
   "id": "ba438fdc",
   "metadata": {},
   "source": []
  }
 ],
 "metadata": {
  "kernelspec": {
   "display_name": "Python 3",
   "language": "python",
   "name": "python3"
  },
  "language_info": {
   "codemirror_mode": {
    "name": "ipython",
    "version": 3
   },
   "file_extension": ".py",
   "mimetype": "text/x-python",
   "name": "python",
   "nbconvert_exporter": "python",
   "pygments_lexer": "ipython3",
   "version": "3.8.8"
  }
 },
 "nbformat": 4,
 "nbformat_minor": 5
}
