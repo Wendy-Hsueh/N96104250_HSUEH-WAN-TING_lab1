{
 "cells": [
  {
   "cell_type": "code",
   "execution_count": 1,
   "id": "a5f2c670",
   "metadata": {},
   "outputs": [
    {
     "name": "stdout",
     "output_type": "stream",
     "text": [
      "Enter an integer: 1234567890\n",
      "0987654321\n"
     ]
    }
   ],
   "source": [
    "number = int(input(\"Enter an integer: \"))  \n",
    "#convert integer to string to get len\n",
    "s = str(number)\n",
    "lens = len(s)  \n",
    "def reverse(number):  \n",
    "    m = 0  \n",
    "    while(number > 0):  \n",
    "        n = number % 10  \n",
    "        m = (m * 10) + n  \n",
    "        number = number // 10\n",
    "    #fill the original len\n",
    "    print(str(m).zfill(lens)) \n",
    "reverse(number)"
   ]
  },
  {
   "cell_type": "code",
   "execution_count": null,
   "id": "64476e7a",
   "metadata": {},
   "outputs": [],
   "source": []
  },
  {
   "cell_type": "code",
   "execution_count": null,
   "id": "22bc354d",
   "metadata": {},
   "outputs": [],
   "source": []
  }
 ],
 "metadata": {
  "kernelspec": {
   "display_name": "Python 3",
   "language": "python",
   "name": "python3"
  },
  "language_info": {
   "codemirror_mode": {
    "name": "ipython",
    "version": 3
   },
   "file_extension": ".py",
   "mimetype": "text/x-python",
   "name": "python",
   "nbconvert_exporter": "python",
   "pygments_lexer": "ipython3",
   "version": "3.8.8"
  }
 },
 "nbformat": 4,
 "nbformat_minor": 5
}
