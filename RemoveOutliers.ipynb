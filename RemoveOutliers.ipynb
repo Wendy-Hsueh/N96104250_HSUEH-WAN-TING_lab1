{
 "cells": [
  {
   "cell_type": "code",
   "execution_count": 27,
   "id": "2266433b",
   "metadata": {},
   "outputs": [],
   "source": [
    "def remove_outliers(n):\n",
    "    cnt = 0\n",
    "    while(p == 1):\n",
    "        val = input('Enter a value (q or Q to quit):')\n",
    "        if(val=='q' or val=='Q'):\n",
    "            break\n",
    "        else:\n",
    "            #string to integer\n",
    "            a = int(val)\n",
    "            #append to initial list\n",
    "            list1.append(a)\n",
    "            cnt+=1\n",
    "            \n",
    "    print('The original data:',list1)\n",
    "    #sort initial data\n",
    "    list1.sort()\n",
    "    #pick the data to be removed\n",
    "    list2 = list1[n:cnt-n]\n",
    "    print('The data with the outliers removed:',list2)\n",
    "    #pick the final data \n",
    "    list3 = list1[0:n]+list1[cnt-n:cnt]\n",
    "    print('The outliers:',list3)"
   ]
  },
  {
   "cell_type": "code",
   "execution_count": 28,
   "id": "53c6c2c4",
   "metadata": {},
   "outputs": [
    {
     "name": "stdout",
     "output_type": "stream",
     "text": [
      "Enter the number of smallest and largest values to remove:2\n",
      "Enter a value (q or Q to quit):1001\n",
      "Enter a value (q or Q to quit):2001\n",
      "Enter a value (q or Q to quit):1\n",
      "Enter a value (q or Q to quit):2\n",
      "Enter a value (q or Q to quit):-1001\n",
      "Enter a value (q or Q to quit):-20\n",
      "Enter a value (q or Q to quit):5\n",
      "Enter a value (q or Q to quit):4\n",
      "Enter a value (q or Q to quit):3\n",
      "Enter a value (q or Q to quit):1\n",
      "Enter a value (q or Q to quit):2\n",
      "Enter a value (q or Q to quit):3\n",
      "Enter a value (q or Q to quit):q\n",
      "The original data: [1001, 2001, 1, 2, -1001, -20, 5, 4, 3, 1, 2, 3]\n",
      "The data with the outliers removed: [1, 1, 2, 2, 3, 3, 4, 5]\n",
      "The outliers: [-1001, -20, 1001, 2001]\n"
     ]
    }
   ],
   "source": [
    "n = int(input('Enter the number of smallest and largest values to remove:'))\n",
    "list1 = []\n",
    "p = 1\n",
    "#call function\n",
    "remove_outliers(n)"
   ]
  },
  {
   "cell_type": "code",
   "execution_count": null,
   "id": "c9575ff6",
   "metadata": {},
   "outputs": [],
   "source": []
  }
 ],
 "metadata": {
  "kernelspec": {
   "display_name": "Python 3",
   "language": "python",
   "name": "python3"
  },
  "language_info": {
   "codemirror_mode": {
    "name": "ipython",
    "version": 3
   },
   "file_extension": ".py",
   "mimetype": "text/x-python",
   "name": "python",
   "nbconvert_exporter": "python",
   "pygments_lexer": "ipython3",
   "version": "3.8.8"
  }
 },
 "nbformat": 4,
 "nbformat_minor": 5
}
